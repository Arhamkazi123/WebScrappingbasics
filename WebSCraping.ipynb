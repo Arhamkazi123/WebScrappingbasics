{
  "nbformat": 4,
  "nbformat_minor": 0,
  "metadata": {
    "colab": {
      "provenance": [],
      "authorship_tag": "ABX9TyPEr/U8vC+izvzSyAsBLoBf",
      "include_colab_link": true
    },
    "kernelspec": {
      "name": "python3",
      "display_name": "Python 3"
    },
    "language_info": {
      "name": "python"
    }
  },
  "cells": [
    {
      "cell_type": "markdown",
      "metadata": {
        "id": "view-in-github",
        "colab_type": "text"
      },
      "source": [
        "<a href=\"https://colab.research.google.com/github/Arhamkazi123/WebScrappingbasics/blob/main/WebSCraping.ipynb\" target=\"_parent\"><img src=\"https://colab.research.google.com/assets/colab-badge.svg\" alt=\"Open In Colab\"/></a>"
      ]
    },
    {
      "cell_type": "code",
      "execution_count": 9,
      "metadata": {
        "colab": {
          "base_uri": "https://localhost:8080/"
        },
        "id": "WYJfztvu-cDP",
        "outputId": "6966a90f-524c-4a3c-df73-cb9f6faa7c5e"
      },
      "outputs": [
        {
          "output_type": "stream",
          "name": "stdout",
          "text": [
            "['$69.99', '$88.99', '$96.99', '$97.99', '$99.99', '$101.99', '$102.99', '$103.99', '$107.99', '$121.99', '$130.99', '$148.99', '$172.99', '$233.99', '$251.99', '$320.99', '$399.99', '$489.99', '$537.99', '$587.99', '$603.99']\n"
          ]
        }
      ],
      "source": [
        "import requests\n",
        "from bs4 import BeautifulSoup\n",
        "url=\"https://webscraper.io/test-sites/e-commerce/allinone/computers/tablets\"\n",
        "\n",
        "r=requests.get(url)\n",
        "# print(r.status_code)\n",
        "soup=BeautifulSoup(r.text,\"lxml\")\n",
        "\n",
        "# # printing all div in html\n",
        "# # print(soup.div)\n",
        "\n",
        "# #printing a inside div\n",
        "\n",
        "# # print(soup.div.a)\n",
        "\n",
        "# #printing p inside div\n",
        "# print(soup.p.text)\n",
        "\n",
        "\n",
        "## all div prices in a list\n",
        "prices=soup.findAll(\"h4\",{\"class\":\"float-end price card-title pull-right\"})\n",
        "\n",
        "newlist = []\n",
        "\n",
        "for price in prices:\n",
        "    newlist.append(price.text)\n",
        "\n",
        "print(newlist)\n",
        "\n",
        "\n",
        "\n"
      ]
    }
  ]
}