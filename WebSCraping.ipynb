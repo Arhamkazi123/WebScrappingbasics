{
  "nbformat": 4,
  "nbformat_minor": 0,
  "metadata": {
    "colab": {
      "provenance": [],
      "authorship_tag": "ABX9TyObMDLrqoq5NmcmOVzhniJR",
      "include_colab_link": true
    },
    "kernelspec": {
      "name": "python3",
      "display_name": "Python 3"
    },
    "language_info": {
      "name": "python"
    }
  },
  "cells": [
    {
      "cell_type": "markdown",
      "metadata": {
        "id": "view-in-github",
        "colab_type": "text"
      },
      "source": [
        "<a href=\"https://colab.research.google.com/github/Arhamkazi123/WebScrappingbasics/blob/main/WebSCraping.ipynb\" target=\"_parent\"><img src=\"https://colab.research.google.com/assets/colab-badge.svg\" alt=\"Open In Colab\"/></a>"
      ]
    },
    {
      "cell_type": "code",
      "execution_count": 23,
      "metadata": {
        "colab": {
          "base_uri": "https://localhost:8080/"
        },
        "id": "WYJfztvu-cDP",
        "outputId": "a352e896-1601-4771-b2e4-ab592587d600"
      },
      "outputs": [
        {
          "output_type": "stream",
          "name": "stdout",
          "text": [
            " Master industry-relevant skills with our vernacular online courses. Choose your program, get certified, and open doors to lucrative career opportunities. \n"
          ]
        }
      ],
      "source": [
        "import requests\n",
        "from bs4 import BeautifulSoup\n",
        "url=\"https://courses.wscubetech.com/\"\n",
        "\n",
        "r=requests.get(url)\n",
        "# print(r.status_code)\n",
        "soup=BeautifulSoup(r.text,\"lxml\")\n",
        "\n",
        "# printing all div in html\n",
        "# print(soup.div)\n",
        "\n",
        "#printing a inside div\n",
        "\n",
        "# print(soup.div.a)\n",
        "\n",
        "#printing p inside div\n",
        "print(soup.p.text)\n"
      ]
    }
  ]
}