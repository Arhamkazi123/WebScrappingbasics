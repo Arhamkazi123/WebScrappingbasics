{
  "nbformat": 4,
  "nbformat_minor": 0,
  "metadata": {
    "colab": {
      "provenance": [],
      "authorship_tag": "ABX9TyPN8LMEQPo05T10trDIxYU4",
      "include_colab_link": true
    },
    "kernelspec": {
      "name": "python3",
      "display_name": "Python 3"
    },
    "language_info": {
      "name": "python"
    }
  },
  "cells": [
    {
      "cell_type": "markdown",
      "metadata": {
        "id": "view-in-github",
        "colab_type": "text"
      },
      "source": [
        "<a href=\"https://colab.research.google.com/github/Arhamkazi123/WebScrappingbasics/blob/main/WebSCraping.ipynb\" target=\"_parent\"><img src=\"https://colab.research.google.com/assets/colab-badge.svg\" alt=\"Open In Colab\"/></a>"
      ]
    },
    {
      "cell_type": "code",
      "execution_count": 36,
      "metadata": {
        "colab": {
          "base_uri": "https://localhost:8080/"
        },
        "id": "WYJfztvu-cDP",
        "outputId": "89f73fd0-09a6-4333-a43e-12ef84c2fdb2"
      },
      "outputs": [
        {
          "output_type": "stream",
          "name": "stdout",
          "text": [
            "\n",
            "Test Sites\n",
            "\n"
          ]
        }
      ],
      "source": [
        "import requests\n",
        "from bs4 import BeautifulSoup\n",
        "url=\"https://webscraper.io/test-sites/e-commerce/allinone/computers/tablets\"\n",
        "\n",
        "r=requests.get(url)\n",
        "# print(r.status_code)\n",
        "soup=BeautifulSoup(r.text,\"lxml\")\n",
        "\n",
        "# # printing all div in html\n",
        "# # print(soup.div)\n",
        "\n",
        "# #printing a inside div\n",
        "\n",
        "# # print(soup.div.a)\n",
        "\n",
        "# #printing p inside div\n",
        "# print(soup.p.text)\n",
        "price=soup.find(\"div\",{\"class\":\"col-lg-12\"})\n",
        "\n",
        "print(price.text)\n",
        "\n"
      ]
    }
  ]
}