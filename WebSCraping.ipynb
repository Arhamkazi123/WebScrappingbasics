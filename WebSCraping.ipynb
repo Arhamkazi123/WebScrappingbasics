{
  "nbformat": 4,
  "nbformat_minor": 0,
  "metadata": {
    "colab": {
      "provenance": [],
      "authorship_tag": "ABX9TyNqzFAnYe6Rmo4COVCQVChS",
      "include_colab_link": true
    },
    "kernelspec": {
      "name": "python3",
      "display_name": "Python 3"
    },
    "language_info": {
      "name": "python"
    }
  },
  "cells": [
    {
      "cell_type": "markdown",
      "metadata": {
        "id": "view-in-github",
        "colab_type": "text"
      },
      "source": [
        "<a href=\"https://colab.research.google.com/github/Arhamkazi123/WebScrappingbasics/blob/main/WebSCraping.ipynb\" target=\"_parent\"><img src=\"https://colab.research.google.com/assets/colab-badge.svg\" alt=\"Open In Colab\"/></a>"
      ]
    },
    {
      "cell_type": "code",
      "execution_count": 4,
      "metadata": {
        "colab": {
          "base_uri": "https://localhost:8080/"
        },
        "id": "WYJfztvu-cDP",
        "outputId": "cce689f8-9cac-430e-a436-7cae2978cda1"
      },
      "outputs": [
        {
          "output_type": "stream",
          "name": "stdout",
          "text": [
            "200\n",
            "hi\n"
          ]
        }
      ],
      "source": [
        "import requests\n",
        "\n",
        "url=\"https://courses.wscubetech.com/\"\n",
        "r=requests.get(url)\n",
        "print(r.status_code)\n",
        "print(\"hi\")"
      ]
    }
  ]
}